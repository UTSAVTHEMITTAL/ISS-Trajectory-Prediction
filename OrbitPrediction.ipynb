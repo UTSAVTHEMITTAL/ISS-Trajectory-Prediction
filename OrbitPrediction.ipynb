{
 "cells": [
  {
   "cell_type": "code",
   "execution_count": 3,
   "metadata": {
    "colab": {
     "base_uri": "https://localhost:8080/"
    },
    "id": "jpltv0Ub0yu8",
    "outputId": "435fd734-acc0-4e1a-c3b6-0fbc27d0456c"
   },
   "outputs": [
    {
     "name": "stdout",
     "output_type": "stream",
     "text": [
      "Requirement already satisfied: skyfield in /usr/local/lib/python3.10/dist-packages (1.49)\n",
      "Requirement already satisfied: certifi>=2017.4.17 in /usr/local/lib/python3.10/dist-packages (from skyfield) (2024.12.14)\n",
      "Requirement already satisfied: jplephem>=2.13 in /usr/local/lib/python3.10/dist-packages (from skyfield) (2.22)\n",
      "Requirement already satisfied: numpy in /usr/local/lib/python3.10/dist-packages (from skyfield) (1.26.4)\n",
      "Requirement already satisfied: sgp4>=2.2 in /usr/local/lib/python3.10/dist-packages (from skyfield) (2.23)\n",
      "Requirement already satisfied: tensorflow in /usr/local/lib/python3.10/dist-packages (2.17.1)\n",
      "Requirement already satisfied: absl-py>=1.0.0 in /usr/local/lib/python3.10/dist-packages (from tensorflow) (1.4.0)\n",
      "Requirement already satisfied: astunparse>=1.6.0 in /usr/local/lib/python3.10/dist-packages (from tensorflow) (1.6.3)\n",
      "Requirement already satisfied: flatbuffers>=24.3.25 in /usr/local/lib/python3.10/dist-packages (from tensorflow) (24.3.25)\n",
      "Requirement already satisfied: gast!=0.5.0,!=0.5.1,!=0.5.2,>=0.2.1 in /usr/local/lib/python3.10/dist-packages (from tensorflow) (0.6.0)\n",
      "Requirement already satisfied: google-pasta>=0.1.1 in /usr/local/lib/python3.10/dist-packages (from tensorflow) (0.2.0)\n",
      "Requirement already satisfied: h5py>=3.10.0 in /usr/local/lib/python3.10/dist-packages (from tensorflow) (3.12.1)\n",
      "Requirement already satisfied: libclang>=13.0.0 in /usr/local/lib/python3.10/dist-packages (from tensorflow) (18.1.1)\n",
      "Requirement already satisfied: ml-dtypes<0.5.0,>=0.3.1 in /usr/local/lib/python3.10/dist-packages (from tensorflow) (0.4.1)\n",
      "Requirement already satisfied: opt-einsum>=2.3.2 in /usr/local/lib/python3.10/dist-packages (from tensorflow) (3.4.0)\n",
      "Requirement already satisfied: packaging in /usr/local/lib/python3.10/dist-packages (from tensorflow) (24.2)\n",
      "Requirement already satisfied: protobuf!=4.21.0,!=4.21.1,!=4.21.2,!=4.21.3,!=4.21.4,!=4.21.5,<5.0.0dev,>=3.20.3 in /usr/local/lib/python3.10/dist-packages (from tensorflow) (4.25.5)\n",
      "Requirement already satisfied: requests<3,>=2.21.0 in /usr/local/lib/python3.10/dist-packages (from tensorflow) (2.32.3)\n",
      "Requirement already satisfied: setuptools in /usr/local/lib/python3.10/dist-packages (from tensorflow) (75.1.0)\n",
      "Requirement already satisfied: six>=1.12.0 in /usr/local/lib/python3.10/dist-packages (from tensorflow) (1.17.0)\n",
      "Requirement already satisfied: termcolor>=1.1.0 in /usr/local/lib/python3.10/dist-packages (from tensorflow) (2.5.0)\n",
      "Requirement already satisfied: typing-extensions>=3.6.6 in /usr/local/lib/python3.10/dist-packages (from tensorflow) (4.12.2)\n",
      "Requirement already satisfied: wrapt>=1.11.0 in /usr/local/lib/python3.10/dist-packages (from tensorflow) (1.17.0)\n",
      "Requirement already satisfied: grpcio<2.0,>=1.24.3 in /usr/local/lib/python3.10/dist-packages (from tensorflow) (1.68.1)\n",
      "Requirement already satisfied: tensorboard<2.18,>=2.17 in /usr/local/lib/python3.10/dist-packages (from tensorflow) (2.17.1)\n",
      "Requirement already satisfied: keras>=3.2.0 in /usr/local/lib/python3.10/dist-packages (from tensorflow) (3.5.0)\n",
      "Requirement already satisfied: tensorflow-io-gcs-filesystem>=0.23.1 in /usr/local/lib/python3.10/dist-packages (from tensorflow) (0.37.1)\n",
      "Requirement already satisfied: numpy<2.0.0,>=1.23.5 in /usr/local/lib/python3.10/dist-packages (from tensorflow) (1.26.4)\n",
      "Requirement already satisfied: wheel<1.0,>=0.23.0 in /usr/local/lib/python3.10/dist-packages (from astunparse>=1.6.0->tensorflow) (0.45.1)\n",
      "Requirement already satisfied: rich in /usr/local/lib/python3.10/dist-packages (from keras>=3.2.0->tensorflow) (13.9.4)\n",
      "Requirement already satisfied: namex in /usr/local/lib/python3.10/dist-packages (from keras>=3.2.0->tensorflow) (0.0.8)\n",
      "Requirement already satisfied: optree in /usr/local/lib/python3.10/dist-packages (from keras>=3.2.0->tensorflow) (0.13.1)\n",
      "Requirement already satisfied: charset-normalizer<4,>=2 in /usr/local/lib/python3.10/dist-packages (from requests<3,>=2.21.0->tensorflow) (3.4.0)\n",
      "Requirement already satisfied: idna<4,>=2.5 in /usr/local/lib/python3.10/dist-packages (from requests<3,>=2.21.0->tensorflow) (3.10)\n",
      "Requirement already satisfied: urllib3<3,>=1.21.1 in /usr/local/lib/python3.10/dist-packages (from requests<3,>=2.21.0->tensorflow) (2.2.3)\n",
      "Requirement already satisfied: certifi>=2017.4.17 in /usr/local/lib/python3.10/dist-packages (from requests<3,>=2.21.0->tensorflow) (2024.12.14)\n",
      "Requirement already satisfied: markdown>=2.6.8 in /usr/local/lib/python3.10/dist-packages (from tensorboard<2.18,>=2.17->tensorflow) (3.7)\n",
      "Requirement already satisfied: tensorboard-data-server<0.8.0,>=0.7.0 in /usr/local/lib/python3.10/dist-packages (from tensorboard<2.18,>=2.17->tensorflow) (0.7.2)\n",
      "Requirement already satisfied: werkzeug>=1.0.1 in /usr/local/lib/python3.10/dist-packages (from tensorboard<2.18,>=2.17->tensorflow) (3.1.3)\n",
      "Requirement already satisfied: MarkupSafe>=2.1.1 in /usr/local/lib/python3.10/dist-packages (from werkzeug>=1.0.1->tensorboard<2.18,>=2.17->tensorflow) (3.0.2)\n",
      "Requirement already satisfied: markdown-it-py>=2.2.0 in /usr/local/lib/python3.10/dist-packages (from rich->keras>=3.2.0->tensorflow) (3.0.0)\n",
      "Requirement already satisfied: pygments<3.0.0,>=2.13.0 in /usr/local/lib/python3.10/dist-packages (from rich->keras>=3.2.0->tensorflow) (2.18.0)\n",
      "Requirement already satisfied: mdurl~=0.1 in /usr/local/lib/python3.10/dist-packages (from markdown-it-py>=2.2.0->rich->keras>=3.2.0->tensorflow) (0.1.2)\n"
     ]
    }
   ],
   "source": [
    "!pip install skyfield\n",
    "!pip install tensorflow\n",
    "import numpy as np\n",
    "import tensorflow as tf\n",
    "from tensorflow.keras.models import Sequential\n",
    "from sklearn.model_selection import train_test_split\n",
    "import matplotlib.pyplot as plt\n",
    "from sklearn.preprocessing import MinMaxScaler\n",
    "from tensorflow.keras.layers import LSTM, Dense, Dropout\n",
    "from tensorflow.keras.optimizers import Adam"
   ]
  },
  {
   "cell_type": "markdown",
   "metadata": {
    "id": "Jl6mNAu11Kbz"
   },
   "source": [
    "# Dataset Creation\n",
    "\n",
    "We are creating the International Space Station's Orbit from the TLE data. We will consider this as the true value and we will use it as the training and test set."
   ]
  },
  {
   "cell_type": "code",
   "execution_count": 4,
   "metadata": {
    "colab": {
     "base_uri": "https://localhost:8080/"
    },
    "id": "ObC3wKy006tm",
    "outputId": "f2adc2a8-07bf-4f8f-d847-eda391525d07"
   },
   "outputs": [
    {
     "name": "stdout",
     "output_type": "stream",
     "text": [
      "Processed time: 2024-12-21T16:24:16Z\n",
      "ECEF positions saved to InputData_ISS.txt.\n"
     ]
    }
   ],
   "source": [
    "from skyfield.api import EarthSatellite, load\n",
    "from datetime import timedelta\n",
    "\n",
    "def read_tle(file_path):\n",
    "    with open(file_path, 'r') as file:\n",
    "        lines = file.readlines()\n",
    "        name = lines[0].strip()\n",
    "        line1 = lines[1].strip()\n",
    "        line2 = lines[2].strip()\n",
    "    return name, line1, line2\n",
    "\n",
    "def calculate_ecef_positions(tle_file, output_file, duration_hours=24, interval_seconds=1):\n",
    "    name, line1, line2 = read_tle(tle_file)\n",
    "    satellite = EarthSatellite(line1, line2, name, load.timescale())\n",
    "\n",
    "    ts = load.timescale()\n",
    "    start_time = ts.now()\n",
    "\n",
    "    with open(output_file, mode='w') as file:\n",
    "        for second in range(duration_hours * 3600):\n",
    "            current_time = start_time + timedelta(seconds=second)\n",
    "            ecef_x, ecef_y, ecef_z = satellite.at(current_time).position.km\n",
    "            file.write(f\"{current_time.utc_iso()}\\t{ecef_x:.6f}\\t{ecef_y:.6f}\\t{ecef_z:.6f}\\n\")\n",
    "            print(f\"Processed time: {current_time.utc_iso()}\", end=\"\\r\")\n",
    "    print(f\"\\nECEF positions saved to {output_file}.\")\n",
    "\n",
    "if __name__ == \"__main__\":\n",
    "    tle_file = \"ISS_TLE.txt\"\n",
    "    output_file = \"InputData_ISS.txt\"\n",
    "    calculate_ecef_positions(tle_file, output_file, duration_hours=24)"
   ]
  },
  {
   "cell_type": "markdown",
   "metadata": {
    "id": "lkmiMq9m2hxp"
   },
   "source": [
    "# Kalman Filter\n",
    "\n",
    "Here are the implementation of CV and CA Kalman Filter. You don't have to go through it. The prediction done by it is treated as the standard for comparison."
   ]
  },
  {
   "cell_type": "code",
   "execution_count": 5,
   "metadata": {
    "id": "-LSp3auX1BvL"
   },
   "outputs": [],
   "source": [
    "import numpy as np\n",
    "\n",
    "def read_coordinates(file_name):\n",
    "    CVcoordinates = []\n",
    "    with open(file_name, 'r') as file:\n",
    "        for line in file:\n",
    "            coords = line.strip().split('\\t')\n",
    "            if len(coords) == 4:\n",
    "                CVcoordinates.append([float(coords[1]), float(coords[2]), float(coords[3])])\n",
    "    return np.array(CVcoordinates)\n",
    "\n",
    "class KalmanFilter_CV:\n",
    "    def __init__(self, dt=1.0, process_noise=1e-5, measurement_noise=1e-1):\n",
    "        self.dt = dt  # Time step\n",
    "        self.x = np.zeros((6, 1))\n",
    "        self.F = np.array([[1, 0, 0, dt, 0, 0],\n",
    "                           [0, 1, 0, 0, dt, 0],\n",
    "                           [0, 0, 1, 0, 0, dt],\n",
    "                           [0, 0, 0, 1, 0, 0],\n",
    "                           [0, 0, 0, 0, 1, 0],\n",
    "                           [0, 0, 0, 0, 0, 1]])\n",
    "\n",
    "        self.H = np.array([[1, 0, 0, 0, 0, 0],\n",
    "                           [0, 1, 0, 0, 0, 0],\n",
    "                           [0, 0, 1, 0, 0, 0]])\n",
    "        self.Q = np.eye(6) * process_noise\n",
    "        self.R = np.eye(3) * measurement_noise\n",
    "        self.P = np.eye(6)\n",
    "\n",
    "    def predict(self):\n",
    "        self.x = np.dot(self.F, self.x)\n",
    "        self.P = np.dot(np.dot(self.F, self.P), self.F.T) + self.Q\n",
    "\n",
    "    def update(self, z):\n",
    "        y = z - np.dot(self.H, self.x)\n",
    "        S = np.dot(np.dot(self.H, self.P), self.H.T) + self.R\n",
    "        K = np.dot(np.dot(self.P, self.H.T), np.linalg.inv(S))\n",
    "        self.x = self.x + np.dot(K, y)\n",
    "        self.P = np.dot(np.eye(6) - np.dot(K, self.H), self.P)\n",
    "\n",
    "    def get_state(self):\n",
    "        return self.x[:3].flatten()\n",
    "\n",
    "def run_kalman_filter_CV(file_name):\n",
    "    CVcoordinates = read_coordinates(file_name)\n",
    "    kf = KalmanFilter_CV()\n",
    "    CVfiltered_positions = []\n",
    "    for i, coord in enumerate(CVcoordinates):\n",
    "        z = np.array([[coord[0]], [coord[1]], [coord[2]]])\n",
    "        kf.predict()\n",
    "        kf.update(z)\n",
    "        CVfiltered_positions.append(kf.get_state())\n",
    "    CVfiltered_positions = np.array(CVfiltered_positions)\n",
    "\n",
    "    return CVfiltered_positions\n",
    "\n",
    "class KalmanFilter_CA:\n",
    "    def __init__(self, dt=1.0, process_noise=1e-5, measurement_noise=1e-1):\n",
    "        self.dt = dt  # Time step\n",
    "        self.x = np.zeros((9, 1))\n",
    "        self.F = np.array([[1, 0, 0, dt, 0, 0, 0.5 * dt**2, 0, 0],\n",
    "                           [0, 1, 0, 0, dt, 0, 0, 0.5 * dt**2, 0],\n",
    "                           [0, 0, 1, 0, 0, dt, 0, 0, 0.5 * dt**2],\n",
    "                           [0, 0, 0, 1, 0, 0, dt, 0, 0],\n",
    "                           [0, 0, 0, 0, 1, 0, 0, dt, 0],\n",
    "                           [0, 0, 0, 0, 0, 1, 0, 0, dt],\n",
    "                           [0, 0, 0, 0, 0, 0, 1, 0, 0],\n",
    "                           [0, 0, 0, 0, 0, 0, 0, 1, 0],\n",
    "                           [0, 0, 0, 0, 0, 0, 0, 0, 1]])\n",
    "\n",
    "        self.H = np.array([[1, 0, 0, 0, 0, 0, 0, 0, 0],\n",
    "                           [0, 1, 0, 0, 0, 0, 0, 0, 0],\n",
    "                           [0, 0, 1, 0, 0, 0, 0, 0, 0]])\n",
    "        self.Q = np.eye(9) * process_noise\n",
    "        self.R = np.eye(3) * measurement_noise\n",
    "        self.P = np.eye(9)\n",
    "\n",
    "    def predict(self):\n",
    "        self.x = np.dot(self.F, self.x)\n",
    "        self.P = np.dot(np.dot(self.F, self.P), self.F.T) + self.Q\n",
    "\n",
    "    def update(self, z):\n",
    "        y = z - np.dot(self.H, self.x)\n",
    "        S = np.dot(np.dot(self.H, self.P), self.H.T) + self.R\n",
    "        K = np.dot(np.dot(self.P, self.H.T), np.linalg.inv(S))\n",
    "        self.x = self.x + np.dot(K, y)\n",
    "        self.P = np.dot(np.eye(9) - np.dot(K, self.H), self.P)\n",
    "\n",
    "    def get_state(self):\n",
    "        return self.x[:3].flatten()\n",
    "\n",
    "def run_kalman_filter_CA(file_name):\n",
    "    CAcoordinates = read_coordinates(file_name)\n",
    "    kf = KalmanFilter_CA()\n",
    "    CAfiltered_positions = []\n",
    "    for i, coord in enumerate(CAcoordinates):\n",
    "        z = np.array([[coord[0]], [coord[1]], [coord[2]]])\n",
    "        kf.predict()\n",
    "        kf.update(z)\n",
    "        CAfiltered_positions.append(kf.get_state())\n",
    "    CAfiltered_positions = np.array(CAfiltered_positions)\n",
    "    return CAfiltered_positions"
   ]
  },
  {
   "cell_type": "code",
   "execution_count": 6,
   "metadata": {
    "colab": {
     "base_uri": "https://localhost:8080/",
     "height": 604
    },
    "id": "10Qx-LdE3xlI",
    "outputId": "846e0e3d-0eff-4d41-a956-7223830b131f"
   },
   "outputs": [
    {
     "name": "stdout",
     "output_type": "stream",
     "text": [
      "RMS for CV Filter: 2.8134791741470364\n",
      "RMS for CA Filter: 2.3130976105862393\n"
     ]
    },
    {
     "data": {
      "image/png": "[encoded data removed]",
      "text/plain": [
       "<Figure size 1000x600 with 1 Axes>"
      ]
     },
     "metadata": {},
     "output_type": "display_data"
    }
   ],
   "source": [
    "def calculate_rms(raw_data, filtered_data):\n",
    "    differences = raw_data - filtered_data\n",
    "    rms = np.sqrt(np.mean(np.sum(differences**2, axis=1)))\n",
    "    return differences, rms\n",
    "\n",
    "def plot_rms_differences(differences_cv, differences_ca):\n",
    "    fig, ax = plt.subplots(figsize=(10, 6))\n",
    "    ax.plot(np.linalg.norm(differences_cv, axis=1), label='CV Filtered Differences', color='red', linewidth=2)\n",
    "    ax.plot(np.linalg.norm(differences_ca, axis=1), label='CA Filtered Differences', color='green', linewidth=2)\n",
    "\n",
    "    ax.set_title('RMS Differences: Raw Data vs Filtered Positions', fontsize=14)\n",
    "    ax.set_xlabel('Time Step', fontsize=12)\n",
    "    ax.set_ylabel('Difference Magnitude', fontsize=12)\n",
    "    ax.legend()\n",
    "    plt.grid(True)\n",
    "    plt.show()\n",
    "\n",
    "if __name__ == \"__main__\":\n",
    "    file_name = \"InputData_ISS.txt\"\n",
    "    raw_data = read_coordinates(file_name)\n",
    "\n",
    "    CVfiltered_positions = run_kalman_filter_CV(file_name)\n",
    "    CAfiltered_positions = run_kalman_filter_CA(file_name)\n",
    "    raw_data = raw_data[1:]\n",
    "    CVfiltered_positions = CVfiltered_positions[1:]\n",
    "    CAfiltered_positions = CAfiltered_positions[1:]\n",
    "\n",
    "    differences_cv, rms_cv = calculate_rms(raw_data, CVfiltered_positions)\n",
    "    differences_ca, rms_ca = calculate_rms(raw_data, CAfiltered_positions)\n",
    "    print(f\"RMS for CV Filter: {rms_cv}\")\n",
    "    print(f\"RMS for CA Filter: {rms_ca}\")\n",
    "    plot_rms_differences(differences_cv, differences_ca)"
   ]
  },
  {
   "cell_type": "markdown",
   "metadata": {
    "id": "u2t2jx1z3UYu"
   },
   "source": [
    "# Task\n",
    "\n",
    "Create an ML model that uses data from \"InputData_ISS.txt\" for training and testing.\n",
    "\n",
    "Model must be compared with prediction done by Kalman Filter (present in CVfiltered_positions and CAfiltered_positions)."
   ]
  },
  {
   "cell_type": "code",
   "execution_count": 6,
   "metadata": {
    "id": "8XCB0jQH4g4s"
   },
   "outputs": [],
   "source": []
  }
 ],
 "metadata": {
  "colab": {
   "provenance": [],
   "toc_visible": true
  },
  "kernelspec": {
   "display_name": "Python 3 (myenv)",
   "language": "python",
   "name": "myenv"
  },
  "language_info": {
   "codemirror_mode": {
    "name": "ipython",
    "version": 3
   },
   "file_extension": ".py",
   "mimetype": "text/x-python",
   "name": "python",
   "nbconvert_exporter": "python",
   "pygments_lexer": "ipython3",
   "version": "3.12.7"
  }
 },
 "nbformat": 4,
 "nbformat_minor": 4
}
